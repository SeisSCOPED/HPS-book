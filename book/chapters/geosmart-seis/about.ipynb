{
 "cells": [
  {
   "attachments": {},
   "cell_type": "markdown",
   "metadata": {
    "tags": []
   },
   "source": [
    "# Machine Learning for Seismology\n",
    "\n",
    "HPS is supported by GeoSMART to develop tutorials for machine learning research in seismology. The aim of this chapter is to develop ML models for seismological use cases.\n",
    "\n",
    "Please contribute the following way:\n",
    "* Provide comments to the current tutorials using GitHub issues on HPS-book.\n",
    "* Contribute of your own tutorial. Under this chapter, we aim to collect tutorials that are method-focused and geared toward training model. For deploying ML for seismology, please contribute in the previous chapters.\n",
    "* You may choose to contribut with your own JupyterBook.\n",
    "\n",
    "### GeoSMART Use-case books\n",
    "\n",
    "This book is a template for ML in seismology from the NSF-funded GeoSMART project.\n",
    "\n",
    "Explain this family of books, link to others, explain how to contribute and purpose. Books in the library can be identified by the badge:\n",
    "\n",
    "[![GeoSMART Use Case Library](../img/use_case_badge.svg)](https://geo-smart.github.io/usecases)\n",
    "\n",
    "\n",
    "[![GeoSMART Use Case Template](../img/use_case_badge.svg)](https://github.com/geo-smart/use_case_template)\n",
    "\n",
    "\n",
    "**Technical Details**\n",
    "\n",
    "Creating a use case book can either be done by navigating use case template repository and clicking the \"use as template\" button.\n",
    "\n",
    "The `.github` folder already contains the github actions that will handle CI/CD deployment to github pages. There is no need to create a gh-pages branch, the first run of the github actions should handle that automatically."
   ]
  }
 ],
 "metadata": {
  "kernelspec": {
   "display_name": "Python 3",
   "language": "python",
   "name": "python3"
  },
  "language_info": {
   "codemirror_mode": {
    "name": "ipython",
    "version": 3
   },
   "file_extension": ".py",
   "mimetype": "text/x-python",
   "name": "python",
   "nbconvert_exporter": "python",
   "pygments_lexer": "ipython3",
   "version": "3.9.0 (tags/v3.9.0:9cf6752, Oct  5 2020, 15:23:07) [MSC v.1927 32 bit (Intel)]"
  },
  "vscode": {
   "interpreter": {
    "hash": "c446eef832ec964573dc49f36fd16bdbed40cbfbefbf557bc2dc78d9e7968689"
   }
  }
 },
 "nbformat": 4,
 "nbformat_minor": 4
}
